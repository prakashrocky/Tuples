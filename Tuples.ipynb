{
  "nbformat": 4,
  "nbformat_minor": 0,
  "metadata": {
    "colab": {
      "provenance": []
    },
    "kernelspec": {
      "name": "python3",
      "display_name": "Python 3"
    },
    "language_info": {
      "name": "python"
    }
  },
  "cells": [
    {
      "cell_type": "code",
      "execution_count": 2,
      "metadata": {
        "colab": {
          "base_uri": "https://localhost:8080/"
        },
        "id": "TeLicMRvNaKC",
        "outputId": "e091c756-87e6-4302-ebe9-5e99f05bf88d"
      },
      "outputs": [
        {
          "output_type": "stream",
          "name": "stdout",
          "text": [
            "()\n",
            "()\n"
          ]
        }
      ],
      "source": [
        "empty_tuple = ()\n",
        "print(empty_tuple)\n",
        "x = tuple()\n",
        "print(x)"
      ]
    },
    {
      "cell_type": "code",
      "source": [
        "my_tuple = (10, 20, 30, 40, 50)\n",
        "first_element = my_tuple[0]\n",
        "print(\"First element:\", first_element)\n",
        "third_element = my_tuple[2]\n",
        "print(\"Third element:\", third_element)\n"
      ],
      "metadata": {
        "colab": {
          "base_uri": "https://localhost:8080/"
        },
        "id": "djq43LeoPoNN",
        "outputId": "d4634b56-6ebd-4c11-cfaf-e429366bf91b"
      },
      "execution_count": 3,
      "outputs": [
        {
          "output_type": "stream",
          "name": "stdout",
          "text": [
            "First element: 10\n",
            "Third element: 30\n"
          ]
        }
      ]
    },
    {
      "cell_type": "code",
      "source": [
        "# Positive indexing\n",
        "my_tuple = (10, 20, 30, 40, 50)\n",
        "first_element = my_tuple[0]\n",
        "print(first_element)\n",
        "second_element = my_tuple[1]\n",
        "print(second_element)\n",
        "\n",
        "# Negative indexing\n",
        "d = (10, 20, 30, 40, 50)\n",
        "last_element = d[-1]\n",
        "print(last_element)\n",
        "second_last_element = d[-2]\n",
        "print(second_last_element)"
      ],
      "metadata": {
        "colab": {
          "base_uri": "https://localhost:8080/"
        },
        "id": "fdsw8xvYQCYE",
        "outputId": "78370971-d9e9-4536-b7e9-a5783781030c"
      },
      "execution_count": 5,
      "outputs": [
        {
          "output_type": "stream",
          "name": "stdout",
          "text": [
            "10\n",
            "20\n",
            "50\n",
            "40\n"
          ]
        }
      ]
    },
    {
      "cell_type": "code",
      "source": [
        "my_tuple = (3, 1, 4, 1, 5, 9, 2, 6, 5, 3, 5)\n",
        "sorted_list = sorted(my_tuple)\n",
        "sorted_tuple = tuple(sorted_list)\n",
        "print(sorted_tuple)"
      ],
      "metadata": {
        "colab": {
          "base_uri": "https://localhost:8080/"
        },
        "id": "PKSL4jAfRgEf",
        "outputId": "a36fb21d-f1be-403c-fc10-e1a916cce41a"
      },
      "execution_count": 6,
      "outputs": [
        {
          "output_type": "stream",
          "name": "stdout",
          "text": [
            "(1, 1, 2, 3, 3, 4, 5, 5, 5, 6, 9)\n"
          ]
        }
      ]
    },
    {
      "cell_type": "code",
      "source": [
        "my_tuple = (1, 2, 3, 4, 5)\n",
        "if 3 in my_tuple:\n",
        "    print(\"Element 3 exists in the tuple.\")\n",
        "else:\n",
        "    print(\"Element 3 does not exist in the tuple.\")"
      ],
      "metadata": {
        "colab": {
          "base_uri": "https://localhost:8080/"
        },
        "id": "YxpRm6QwS8xz",
        "outputId": "db3729d7-1753-429e-b1ee-6f260b3bcc71"
      },
      "execution_count": 7,
      "outputs": [
        {
          "output_type": "stream",
          "name": "stdout",
          "text": [
            "Element 3 exists in the tuple.\n"
          ]
        }
      ]
    }
  ]
}